{
 "cells": [
  {
   "attachments": {},
   "cell_type": "markdown",
   "metadata": {},
   "source": [
    "##### Password with prompt msg"
   ]
  },
  {
   "cell_type": "code",
   "execution_count": 2,
   "metadata": {},
   "outputs": [
    {
     "name": "stdout",
     "output_type": "stream",
     "text": [
      "Password is not fine\n",
      "Your password must have atleast one digit!\n",
      "Your password must have atleast one UpperCase letter!\n",
      "Password is not fine\n",
      "Your password must have atleast one digit!\n",
      "Password is not fine\n",
      "Your password must have atleast one digit!\n",
      "Password is not fine\n",
      "Your password must have atleast one digit!\n",
      "Password is fine\n"
     ]
    }
   ],
   "source": [
    "# another version \n",
    "while True:\n",
    "    psw = input(\"Enter new password: \")\n",
    "\n",
    "    if any(i.isdigit() for i in psw) and any(i.isupper() for i in psw) and len(psw) >= 5:\n",
    "        print(\"Password is fine\")\n",
    "        break\n",
    "    else:\n",
    "        print(\"Password is not fine\")\n",
    "        if any(i.isdigit() for i in psw):\n",
    "            continue\n",
    "        else:\n",
    "            print(\"Your password must have atleast one digit!\")\n",
    "        \n",
    "        if any(i.isupper() for i in psw):\n",
    "            continue\n",
    "        else:\n",
    "            print(\"Your password must have atleast one UpperCase letter!\")\n",
    "\n",
    "        if len(psw) >= 5:\n",
    "            continue\n",
    "        else:\n",
    "            print(\"Your password must be atleast 5 characters long!\")\n"
   ]
  },
  {
   "cell_type": "code",
   "execution_count": 3,
   "metadata": {},
   "outputs": [
    {
     "name": "stdout",
     "output_type": "stream",
     "text": [
      "Please check the following: \n",
      "You need at least one number\n",
      "Password is fine\n"
     ]
    }
   ],
   "source": [
    "# another version \n",
    "while True:\n",
    "    notes = []\n",
    "    psw = input(\"Enter password: \")\n",
    "    if not any(i.isdigit() for i in psw):\n",
    "        notes.append(\"You need at least one number\")\n",
    "    if not any(i.isupper() for i in psw):\n",
    "        notes.append(\"You need at least one uppercase letter\")\n",
    "    if len(psw) < 5:\n",
    "        notes.append(\"You need at least 5 characters\")\n",
    "    if len(notes) == 0:\n",
    "        print(\"Password is fine\")\n",
    "        break\n",
    "    else:\n",
    "        print(\"Please check the following: \")\n",
    "        for note in notes:\n",
    "            print(note)"
   ]
  },
  {
   "attachments": {},
   "cell_type": "markdown",
   "metadata": {},
   "source": [
    "##### Username and Password"
   ]
  },
  {
   "cell_type": "code",
   "execution_count": 1,
   "metadata": {},
   "outputs": [
    {
     "name": "stdout",
     "output_type": "stream",
     "text": [
      "Username is fine\n",
      "Please check the following: \n",
      "You need at least one number\n",
      "You need at least one uppercase letter\n",
      "You need at least 5 characters\n",
      "Password is fine\n"
     ]
    }
   ],
   "source": [
    "while True:\n",
    "    usr = input(\"Enter username: \")\n",
    "    with open(\"users.txt\", \"r\") as file:\n",
    "        users = file.readlines()\n",
    "        users = [i.strip(\"\\n\") for i in users]\n",
    "    \n",
    "    if usr in users:\n",
    "        print(\"username exists\")\n",
    "        continue\n",
    "    else:\n",
    "        print(\"Username is fine\")\n",
    "        break\n",
    "\n",
    "while True:\n",
    "    notes = []\n",
    "    psw = input(\"Enter password: \")\n",
    "    if not any(i.isdigit() for i in psw):\n",
    "        notes.append(\"You need at least one number\")\n",
    "    if not any(i.isupper() for i in psw):\n",
    "        notes.append(\"You need at least one uppercase letter\")\n",
    "    if len(psw) < 5:\n",
    "        notes.append(\"You need at least 5 characters\")\n",
    "    if len(notes) == 0:\n",
    "        print(\"Password is fine\")\n",
    "        break\n",
    "    else:\n",
    "        print(\"Please check the following: \")\n",
    "        for note in notes:\n",
    "            print(note)"
   ]
  },
  {
   "attachments": {},
   "cell_type": "markdown",
   "metadata": {},
   "source": [
    "#### Data Cleaning"
   ]
  },
  {
   "cell_type": "code",
   "execution_count": 5,
   "metadata": {},
   "outputs": [],
   "source": [
    "with open(\"countries-raw.txt\", \"r\") as file:\n",
    "    content = file.readlines()"
   ]
  },
  {
   "cell_type": "code",
   "execution_count": 6,
   "metadata": {},
   "outputs": [],
   "source": [
    "content = [i.strip(\"\\n\") for i in content if \"\\n\" in i]"
   ]
  },
  {
   "cell_type": "code",
   "execution_count": 7,
   "metadata": {},
   "outputs": [],
   "source": [
    "content = [i for i in content if i!=\"\"]\n",
    "content = [i for i in content if i!=\"Top of Page\"]\n",
    "content = [i for i in content if len(i)!=1]"
   ]
  },
  {
   "cell_type": "code",
   "execution_count": 8,
   "metadata": {},
   "outputs": [],
   "source": [
    "with open(\"countries-clean.txt\", \"w\") as file:\n",
    "    for i in content:\n",
    "        file.write(i+'\\n')"
   ]
  },
  {
   "attachments": {},
   "cell_type": "markdown",
   "metadata": {},
   "source": [
    "#### Duplicate country data checker"
   ]
  },
  {
   "cell_type": "code",
   "execution_count": 21,
   "metadata": {},
   "outputs": [
    {
     "name": "stdout",
     "output_type": "stream",
     "text": [
      "['Germany', 'Portugal', 'Spain']\n"
     ]
    }
   ],
   "source": [
    "checklist = [\"Portugal\", \"Germany\", \"Munster\", \"Spain\"]\n",
    "\n",
    "with open(\"countries-clean.txt\", \"r\") as file:\n",
    "    countries = file.readlines()\n",
    "    countries = [i.strip(\"\\n\") for i in countries if \"\\n\" in i]\n",
    "\n",
    "\n",
    "checked = [i for i in countries if i in checklist]\n",
    "print(checked)"
   ]
  },
  {
   "attachments": {},
   "cell_type": "markdown",
   "metadata": {},
   "source": [
    "#### Add Missing countries"
   ]
  },
  {
   "cell_type": "code",
   "execution_count": 29,
   "metadata": {},
   "outputs": [],
   "source": [
    "checklist = [\"Portugal\", \"Germany\",\"Spain\",\"USA\",\"England\"]\n",
    "\n",
    "\n",
    "with open(\"countries-missing.txt\", \"r\") as file:\n",
    "    countries = file.readlines()\n",
    "    countries = [i.strip(\"\\n\") for i in countries if \"\\n\" in i]\n",
    "\n",
    "not_in_list = [i for i in checklist if i not in countries]\n",
    "\n",
    "with open(\"countries-missing.txt\", \"a\") as file:\n",
    "    for i in not_in_list:\n",
    "        file.write(i+'\\n')"
   ]
  },
  {
   "cell_type": "code",
   "execution_count": 30,
   "metadata": {},
   "outputs": [],
   "source": [
    "## updated_list = sorted(checklist + content) \n",
    "# the above code can also be used for generating a sorted list and that list can be written into a new file"
   ]
  },
  {
   "attachments": {},
   "cell_type": "markdown",
   "metadata": {},
   "source": [
    "#### DB connection and data analysis "
   ]
  },
  {
   "cell_type": "code",
   "execution_count": 63,
   "metadata": {},
   "outputs": [
    {
     "data": {
      "text/html": [
       "<div>\n",
       "<style scoped>\n",
       "    .dataframe tbody tr th:only-of-type {\n",
       "        vertical-align: middle;\n",
       "    }\n",
       "\n",
       "    .dataframe tbody tr th {\n",
       "        vertical-align: top;\n",
       "    }\n",
       "\n",
       "    .dataframe thead th {\n",
       "        text-align: right;\n",
       "    }\n",
       "</style>\n",
       "<table border=\"1\" class=\"dataframe\">\n",
       "  <thead>\n",
       "    <tr style=\"text-align: right;\">\n",
       "      <th></th>\n",
       "      <th>Rank</th>\n",
       "      <th>Country</th>\n",
       "      <th>Area</th>\n",
       "      <th>Population</th>\n",
       "    </tr>\n",
       "  </thead>\n",
       "  <tbody>\n",
       "    <tr>\n",
       "      <th>0</th>\n",
       "      <td>1</td>\n",
       "      <td>Russia</td>\n",
       "      <td>17075200</td>\n",
       "      <td>142833689</td>\n",
       "    </tr>\n",
       "    <tr>\n",
       "      <th>1</th>\n",
       "      <td>2</td>\n",
       "      <td>Canada</td>\n",
       "      <td>9984670</td>\n",
       "      <td>35181704</td>\n",
       "    </tr>\n",
       "    <tr>\n",
       "      <th>2</th>\n",
       "      <td>3</td>\n",
       "      <td>United States of America</td>\n",
       "      <td>9826630</td>\n",
       "      <td>320050716</td>\n",
       "    </tr>\n",
       "    <tr>\n",
       "      <th>3</th>\n",
       "      <td>4</td>\n",
       "      <td>China</td>\n",
       "      <td>9596960</td>\n",
       "      <td>1385566537</td>\n",
       "    </tr>\n",
       "    <tr>\n",
       "      <th>4</th>\n",
       "      <td>5</td>\n",
       "      <td>Brazil</td>\n",
       "      <td>8511965</td>\n",
       "      <td>200361925</td>\n",
       "    </tr>\n",
       "    <tr>\n",
       "      <th>5</th>\n",
       "      <td>6</td>\n",
       "      <td>Australia</td>\n",
       "      <td>7686850</td>\n",
       "      <td>23342553</td>\n",
       "    </tr>\n",
       "    <tr>\n",
       "      <th>6</th>\n",
       "      <td>7</td>\n",
       "      <td>India</td>\n",
       "      <td>3287590</td>\n",
       "      <td>1252139596</td>\n",
       "    </tr>\n",
       "    <tr>\n",
       "      <th>7</th>\n",
       "      <td>8</td>\n",
       "      <td>Argentina</td>\n",
       "      <td>2766890</td>\n",
       "      <td>41446246</td>\n",
       "    </tr>\n",
       "    <tr>\n",
       "      <th>8</th>\n",
       "      <td>9</td>\n",
       "      <td>Kazakhstan</td>\n",
       "      <td>2717300</td>\n",
       "      <td>16440586</td>\n",
       "    </tr>\n",
       "    <tr>\n",
       "      <th>9</th>\n",
       "      <td>10</td>\n",
       "      <td>Algeria</td>\n",
       "      <td>2381740</td>\n",
       "      <td>39208194</td>\n",
       "    </tr>\n",
       "    <tr>\n",
       "      <th>10</th>\n",
       "      <td>11</td>\n",
       "      <td>Congo Dem Rep of the</td>\n",
       "      <td>2345410</td>\n",
       "      <td>67513677</td>\n",
       "    </tr>\n",
       "    <tr>\n",
       "      <th>11</th>\n",
       "      <td>12</td>\n",
       "      <td>Greenland</td>\n",
       "      <td>2166086</td>\n",
       "      <td>56987</td>\n",
       "    </tr>\n",
       "    <tr>\n",
       "      <th>12</th>\n",
       "      <td>13</td>\n",
       "      <td>Saudi Arabia</td>\n",
       "      <td>2149690</td>\n",
       "      <td>28828870</td>\n",
       "    </tr>\n",
       "  </tbody>\n",
       "</table>\n",
       "</div>"
      ],
      "text/plain": [
       "    Rank                   Country      Area  Population\n",
       "0      1                    Russia  17075200   142833689\n",
       "1      2                    Canada   9984670    35181704\n",
       "2      3  United States of America   9826630   320050716\n",
       "3      4                     China   9596960  1385566537\n",
       "4      5                    Brazil   8511965   200361925\n",
       "5      6                 Australia   7686850    23342553\n",
       "6      7                     India   3287590  1252139596\n",
       "7      8                 Argentina   2766890    41446246\n",
       "8      9                Kazakhstan   2717300    16440586\n",
       "9     10                   Algeria   2381740    39208194\n",
       "10    11      Congo Dem Rep of the   2345410    67513677\n",
       "11    12                 Greenland   2166086       56987\n",
       "12    13              Saudi Arabia   2149690    28828870"
      ]
     },
     "execution_count": 63,
     "metadata": {},
     "output_type": "execute_result"
    }
   ],
   "source": [
    "import sqlite3\n",
    "import pandas as pd\n",
    "\n",
    "conn = sqlite3.connect(\"database.db\")\n",
    "cur = conn.cursor()\n",
    "cur.execute(\"SELECT * FROM countries WHERE area>=2000000\")\n",
    "rows = cur.fetchall()\n",
    "conn.close()\n",
    "\n",
    "df = pd.DataFrame.from_records(rows)\n",
    "\n",
    "df.columns = [\"Rank\", \"Country\", \"Area\", \"Population\"]\n",
    "df.to_csv(\"countries_big_area.csv\", index=False)\n",
    "df"
   ]
  },
  {
   "attachments": {},
   "cell_type": "markdown",
   "metadata": {},
   "source": [
    "#### Insert Data into DataBase from csv file"
   ]
  },
  {
   "cell_type": "code",
   "execution_count": 70,
   "metadata": {},
   "outputs": [
    {
     "name": "stdout",
     "output_type": "stream",
     "text": [
      "Spain 499401\n",
      "Turkmenistan 488100\n",
      "Cameroon 469440\n",
      "Papua New Guinea 451709\n",
      "Uzbekistan 447400\n",
      "Morocco 446301\n",
      "Iraq 433970\n",
      "Sweden 411621\n",
      "Paraguay 397301\n",
      "Japan 394744\n"
     ]
    }
   ],
   "source": [
    "import sqlite3\n",
    "import pandas\n",
    "\n",
    "data = pandas.read_csv(\"ten-more-countries.txt\")\n",
    "conn = sqlite3.connect(\"database.db\")\n",
    "cur = conn.cursor()\n",
    "\n",
    "\n",
    "for index, row in data.iterrows():\n",
    "    print(row[\"Country\"], row[\"Area\"])\n",
    "    cur.execute(\"INSERT INTO countries VALUES (NULL, ?, ?, NULL)\", (row[\"Country\"], row[\"Area\"]))\n",
    "\n",
    "conn.commit()\n",
    "conn.close()"
   ]
  },
  {
   "attachments": {},
   "cell_type": "markdown",
   "metadata": {},
   "source": [
    "#### File counter"
   ]
  },
  {
   "cell_type": "code",
   "execution_count": 72,
   "metadata": {},
   "outputs": [
    {
     "name": "stdout",
     "output_type": "stream",
     "text": [
      "2\n"
     ]
    }
   ],
   "source": [
    "import glob\n",
    "\n",
    "file_list=glob.glob1(\"files\",\"*.py\")\n",
    "print(len(file_list))\n"
   ]
  },
  {
   "attachments": {},
   "cell_type": "markdown",
   "metadata": {},
   "source": [
    "#### Recursive file counter"
   ]
  },
  {
   "cell_type": "code",
   "execution_count": 73,
   "metadata": {},
   "outputs": [
    {
     "name": "stdout",
     "output_type": "stream",
     "text": [
      "3\n"
     ]
    }
   ],
   "source": [
    "\n",
    "import glob\n",
    "\n",
    "file_list = glob.glob(\"subdirs/**/*.py\", recursive=True)\n",
    "print(len(file_list))"
   ]
  },
  {
   "attachments": {},
   "cell_type": "markdown",
   "metadata": {},
   "source": [
    "#### URL Cleaner"
   ]
  },
  {
   "cell_type": "code",
   "execution_count": 79,
   "metadata": {},
   "outputs": [
    {
     "name": "stdout",
     "output_type": "stream",
     "text": [
      "['https:/www.google.com\\n', 'https:/www.yahoo.com\\n', 'https:/www.stackoverflow.com\\n', 'https:/www.pythonhow.com\\n']\n",
      "http:/www.google.com\n",
      "\n",
      "http://www.google.com\n",
      "\n",
      "http:/www.yahoo.com\n",
      "\n",
      "http://www.yahoo.com\n",
      "\n",
      "http:/www.stackoverflow.com\n",
      "\n",
      "http://www.stackoverflow.com\n",
      "\n",
      "http:/www.pythonhow.com\n",
      "\n",
      "http://www.pythonhow.com\n",
      "\n"
     ]
    }
   ],
   "source": [
    "with open(\"urls.txt\", \"r\") as file:\n",
    "    lines = file.readlines()\n",
    "\n",
    "print(lines)\n",
    "\n",
    "with open(\"urls_corrected.txt\", \"w\") as file:\n",
    "    for line in lines:\n",
    "        line_remove_s = line.replace(\"s\", \"\", 1)\n",
    "        print(line_remove_s)\n",
    "        line_remove_s_add_slash = line_remove_s[:6] + \"/\" + line_remove_s[6:]\n",
    "        print(line_remove_s_add_slash)\n",
    "        file.write(line_remove_s_add_slash)\n"
   ]
  },
  {
   "attachments": {},
   "cell_type": "markdown",
   "metadata": {},
   "source": [
    "#### Comma Seperated Values"
   ]
  },
  {
   "cell_type": "code",
   "execution_count": 80,
   "metadata": {},
   "outputs": [],
   "source": [
    "line = input(\"Enter values: \")\n",
    "line_list = line.split(\",\")\n",
    "with open(\"user_data_commas.txt\", \"a+\") as file:\n",
    "    for i in line_list:\n",
    "        file.write(i + \"\\n\")"
   ]
  },
  {
   "attachments": {},
   "cell_type": "markdown",
   "metadata": {},
   "source": [
    "#### File writer\n"
   ]
  },
  {
   "cell_type": "code",
   "execution_count": null,
   "metadata": {},
   "outputs": [],
   "source": [
    "#Create a program that asks the user to submit text repeatedly\n",
    "#The program closes when the user submits CLOSE\n",
    "\n",
    "file = open(\"user_data.txt\", 'a+')\n",
    "\n",
    "while True:\n",
    "    line = input(\"Write a value: \")\n",
    "    if line == \"CLOSE\":\n",
    "        file.close()\n",
    "        break\n",
    "    else:\n",
    "        file.write(line + \"\\n\")\n"
   ]
  },
  {
   "attachments": {},
   "cell_type": "markdown",
   "metadata": {},
   "source": [
    "#### Advanced File Writer"
   ]
  },
  {
   "cell_type": "code",
   "execution_count": 1,
   "metadata": {},
   "outputs": [],
   "source": [
    "#Create a program that asks the user to submit text through a GUI\n",
    "\n",
    "file = open(\"user_data_save_close.txt\", 'a+')\n",
    "\n",
    "while True:\n",
    "    line = input(\"Write a value: \")\n",
    "    if line == \"SAVE\":\n",
    "        file.close()\n",
    "        file = open(\"user_data_save_close.txt\", 'a+')\n",
    "    elif line == \"CLOSE\":\n",
    "        file.close()\n",
    "        break\n",
    "    else:\n",
    "        file.write(line + \"\\n\")\n"
   ]
  }
 ],
 "metadata": {
  "kernelspec": {
   "display_name": "Python 3",
   "language": "python",
   "name": "python3"
  },
  "language_info": {
   "codemirror_mode": {
    "name": "ipython",
    "version": 3
   },
   "file_extension": ".py",
   "mimetype": "text/x-python",
   "name": "python",
   "nbconvert_exporter": "python",
   "pygments_lexer": "ipython3",
   "version": "3.11.1"
  },
  "orig_nbformat": 4
 },
 "nbformat": 4,
 "nbformat_minor": 2
}
