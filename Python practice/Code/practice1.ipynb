{
 "cells": [
  {
   "attachments": {},
   "cell_type": "markdown",
   "metadata": {},
   "source": [
    "##### Read a python file and return number of words"
   ]
  },
  {
   "cell_type": "code",
   "execution_count": 158,
   "metadata": {},
   "outputs": [
    {
     "name": "stdout",
     "output_type": "stream",
     "text": [
      "10\n"
     ]
    }
   ],
   "source": [
    "def count_words(filepath):\n",
    "    with open(filepath, 'r') as file:\n",
    "        strng = file.read()\n",
    "        strng = strng.replace(\",\" , \" \")\n",
    "        strng_list = strng.split(\" \")\n",
    "        return len(strng_list)\n",
    "\n",
    "print(count_words(\"7507314-words1.txt\"))"
   ]
  },
  {
   "attachments": {},
   "cell_type": "markdown",
   "metadata": {},
   "source": [
    "##### Write into a python file "
   ]
  },
  {
   "cell_type": "code",
   "execution_count": 2,
   "metadata": {},
   "outputs": [],
   "source": [
    "import string\n"
   ]
  },
  {
   "cell_type": "code",
   "execution_count": 3,
   "metadata": {},
   "outputs": [],
   "source": [
    "with open(\"letters.txt\", \"w\") as file:\n",
    "    for letter in string.ascii_lowercase:\n",
    "        file.write(letter + \"\\n\")"
   ]
  },
  {
   "attachments": {},
   "cell_type": "markdown",
   "metadata": {},
   "source": [
    "##### Zip function "
   ]
  },
  {
   "cell_type": "code",
   "execution_count": 6,
   "metadata": {},
   "outputs": [
    {
     "name": "stdout",
     "output_type": "stream",
     "text": [
      "5\n",
      "7\n",
      "9\n"
     ]
    }
   ],
   "source": [
    "a = [1, 2, 3]\n",
    "b = (4, 5, 6)\n",
    "\n",
    "for a,b in zip(a,b):\n",
    "    print(a+b)"
   ]
  },
  {
   "attachments": {},
   "cell_type": "markdown",
   "metadata": {},
   "source": [
    "##### Two letters in a file"
   ]
  },
  {
   "cell_type": "code",
   "execution_count": 20,
   "metadata": {},
   "outputs": [],
   "source": [
    "with open(\"letters2.txt\", \"w\") as file:\n",
    "    for letter1,letter2  in zip(string.ascii_lowercase[0::2], string.ascii_lowercase[1::2]):\n",
    "        file.write(letter1 + letter2 + \"\\n\")"
   ]
  },
  {
   "attachments": {},
   "cell_type": "markdown",
   "metadata": {},
   "source": [
    "##### Three letters in a file"
   ]
  },
  {
   "cell_type": "code",
   "execution_count": 21,
   "metadata": {},
   "outputs": [],
   "source": [
    "import string\n",
    "\n",
    "letters = string.ascii_lowercase + \" \"\n",
    "\n",
    "slice1 = letters[0::3]\n",
    "slice2 = letters[1::3]\n",
    "slice3 = letters[2::3]\n",
    "\n",
    "with open(\"letters3.txt\", \"w\") as file:\n",
    "    for s1, s2, s3 in zip(slice1, slice2, slice3):\n",
    "        file.write(s1 + s2 + s3 + \"\\n\")\n"
   ]
  },
  {
   "attachments": {},
   "cell_type": "markdown",
   "metadata": {},
   "source": [
    "##### One file one letter"
   ]
  },
  {
   "cell_type": "code",
   "execution_count": 25,
   "metadata": {},
   "outputs": [],
   "source": [
    "for letter in string.ascii_lowercase:\n",
    "    with open(letter + \".txt\", \"w\") as file:\n",
    "        file.write(letter)"
   ]
  },
  {
   "attachments": {},
   "cell_type": "markdown",
   "metadata": {},
   "source": [
    "##### Extract letters from 26 files and put them in a list \n"
   ]
  },
  {
   "cell_type": "code",
   "execution_count": 26,
   "metadata": {},
   "outputs": [],
   "source": [
    "L = []\n",
    "\n",
    "for letter in string.ascii_lowercase:\n",
    "    with open(letter + \".txt\", \"r\") as file:\n",
    "        L.append(file.read())"
   ]
  },
  {
   "attachments": {},
   "cell_type": "markdown",
   "metadata": {},
   "source": [
    "##### Letters in \"Python\""
   ]
  },
  {
   "cell_type": "code",
   "execution_count": 41,
   "metadata": {},
   "outputs": [
    {
     "name": "stdout",
     "output_type": "stream",
     "text": [
      "['h', 'n', 'o', 'p', 't', 'y']\n"
     ]
    }
   ],
   "source": [
    "#Write a script that extracts letters from files if letters are contained in \"python\" and puts the letters in a list\n",
    "import glob\n",
    "\n",
    "letters = []\n",
    "file_list = glob.iglob(\"letters/*.txt\")\n",
    "check = \"python\"\n",
    "\n",
    "for filename in file_list:\n",
    "    with open(filename,\"r\") as file:\n",
    "        letter = file.read().strip(\"\\n\")\n",
    "        if letter in check:\n",
    "            letters.append(letter)\n",
    "\n",
    "print(letters)"
   ]
  },
  {
   "attachments": {},
   "cell_type": "markdown",
   "metadata": {},
   "source": [
    "#### Append to Multilevel Dictionary"
   ]
  },
  {
   "cell_type": "code",
   "execution_count": 1,
   "metadata": {},
   "outputs": [],
   "source": [
    "d = {\"employees\":[{\"firstName\": \"John\", \"lastName\": \"Doe\"},\n",
    "                {\"firstName\": \"Anna\", \"lastName\": \"Smith\"},\n",
    "                {\"firstName\": \"Peter\", \"lastName\": \"Jones\"}],\n",
    "\"owners\":[{\"firstName\": \"Jack\", \"lastName\": \"Petter\"},\n",
    "          {\"firstName\": \"Jessy\", \"lastName\": \"Petter\"}]}"
   ]
  },
  {
   "cell_type": "code",
   "execution_count": 2,
   "metadata": {},
   "outputs": [],
   "source": [
    "d[\"employees\"].append(dict(firstName = \"Albert\", lastName = \"Bert\"))"
   ]
  },
  {
   "cell_type": "code",
   "execution_count": 3,
   "metadata": {},
   "outputs": [
    {
     "data": {
      "text/plain": [
       "{'employees': [{'firstName': 'John', 'lastName': 'Doe'},\n",
       "  {'firstName': 'Anna', 'lastName': 'Smith'},\n",
       "  {'firstName': 'Peter', 'lastName': 'Jones'},\n",
       "  {'firstName': 'Albert', 'lastName': 'Bert'}],\n",
       " 'owners': [{'firstName': 'Jack', 'lastName': 'Petter'},\n",
       "  {'firstName': 'Jessy', 'lastName': 'Petter'}]}"
      ]
     },
     "execution_count": 3,
     "metadata": {},
     "output_type": "execute_result"
    }
   ],
   "source": [
    "d"
   ]
  },
  {
   "attachments": {},
   "cell_type": "markdown",
   "metadata": {},
   "source": [
    "#### Dict to JSON "
   ]
  },
  {
   "cell_type": "code",
   "execution_count": 5,
   "metadata": {},
   "outputs": [],
   "source": [
    "import json"
   ]
  },
  {
   "cell_type": "code",
   "execution_count": 6,
   "metadata": {},
   "outputs": [],
   "source": [
    "d = {\"employees\":[{\"firstName\": \"John\", \"lastName\": \"Doe\"},\n",
    "                {\"firstName\": \"Anna\", \"lastName\": \"Smith\"},\n",
    "                {\"firstName\": \"Peter\", \"lastName\": \"Jones\"}],\n",
    "\"owners\":[{\"firstName\": \"Jack\", \"lastName\": \"Petter\"},\n",
    "          {\"firstName\": \"Jessy\", \"lastName\": \"Petter\"}]}"
   ]
  },
  {
   "cell_type": "code",
   "execution_count": 9,
   "metadata": {},
   "outputs": [
    {
     "name": "stdout",
     "output_type": "stream",
     "text": [
      "{\n",
      "    \"employees\": [\n",
      "        {\n",
      "            \"firstName\": \"John\",\n",
      "            \"lastName\": \"Doe\"\n",
      "        },\n",
      "        {\n",
      "            \"firstName\": \"Anna\",\n",
      "            \"lastName\": \"Smith\"\n",
      "        },\n",
      "        {\n",
      "            \"firstName\": \"Peter\",\n",
      "            \"lastName\": \"Jones\"\n",
      "        }\n",
      "    ],\n",
      "    \"owners\": [\n",
      "        {\n",
      "            \"firstName\": \"Jack\",\n",
      "            \"lastName\": \"Petter\"\n",
      "        },\n",
      "        {\n",
      "            \"firstName\": \"Jessy\",\n",
      "            \"lastName\": \"Petter\"\n",
      "        }\n",
      "    ]\n",
      "}\n"
     ]
    }
   ],
   "source": [
    "json_object = json.dumps(d, indent=4)\n",
    "print(json_object)"
   ]
  },
  {
   "attachments": {},
   "cell_type": "markdown",
   "metadata": {},
   "source": [
    "#### JSON to dict"
   ]
  },
  {
   "cell_type": "code",
   "execution_count": 10,
   "metadata": {},
   "outputs": [
    {
     "name": "stdout",
     "output_type": "stream",
     "text": [
      "{'employees': [{'firstName': 'John', 'lastName': 'Doe'},\n",
      "               {'firstName': 'Anna', 'lastName': 'Smith'},\n",
      "               {'firstName': 'Peter', 'lastName': 'Jones'}],\n",
      " 'owners': [{'firstName': 'Jack', 'lastName': 'Petter'},\n",
      "            {'firstName': 'Jessy', 'lastName': 'Petter'}]}\n"
     ]
    }
   ],
   "source": [
    "import json\n",
    "from pprint import pprint\n",
    "\n",
    "with open(\"company1.json\",\"r\") as file:\n",
    "    d = json.loads(file.read())\n",
    "\n",
    "pprint(d)"
   ]
  },
  {
   "attachments": {},
   "cell_type": "markdown",
   "metadata": {},
   "source": [
    "##### Add to JSON"
   ]
  },
  {
   "cell_type": "code",
   "execution_count": 12,
   "metadata": {},
   "outputs": [],
   "source": [
    "import json\n",
    "from pprint import pprint\n",
    "\n",
    "with open(\"company1.json\",\"r+\") as file:\n",
    "    d = json.loads(file.read())\n",
    "    d[\"employees\"].append(dict(firstName = \"Albert\", lastName = \"Bert\"))\n",
    "    file.seek(0)\n",
    "    json.dump(d, file, indent=4, sort_keys=True)\n",
    "    file.truncate()\n"
   ]
  },
  {
   "attachments": {},
   "cell_type": "markdown",
   "metadata": {},
   "source": [
    "##### Enumerator"
   ]
  },
  {
   "cell_type": "code",
   "execution_count": 11,
   "metadata": {},
   "outputs": [
    {
     "name": "stdout",
     "output_type": "stream",
     "text": [
      "Item 1 has index 0\n",
      "Item 2 has index 1\n",
      "Item 3 has index 2\n"
     ]
    }
   ],
   "source": [
    "a = [1, 2, 3]\n",
    "for index, item in enumerate(a):\n",
    "    print(\"Item %s has index %s\" % (item, index))"
   ]
  },
  {
   "attachments": {},
   "cell_type": "markdown",
   "metadata": {},
   "source": [
    "#### Progressive Timed Printer"
   ]
  },
  {
   "cell_type": "code",
   "execution_count": null,
   "metadata": {},
   "outputs": [],
   "source": [
    "import time\n",
    "i = 0 \n",
    "while True:\n",
    "    i = i + 1\n",
    "    print(\"Hello\")\n",
    "    time.sleep(i)\n",
    "    \n"
   ]
  },
  {
   "attachments": {},
   "cell_type": "markdown",
   "metadata": {},
   "source": [
    "##### Continue and Pass"
   ]
  },
  {
   "cell_type": "code",
   "execution_count": null,
   "metadata": {},
   "outputs": [],
   "source": [
    "# Output is hello Hi hello Hi...\n",
    "while True:\n",
    "    print(\"hello\")\n",
    "    if 2 > 1:\n",
    "        pass\n",
    "    print(\"Hi\")"
   ]
  },
  {
   "cell_type": "code",
   "execution_count": null,
   "metadata": {},
   "outputs": [],
   "source": [
    "# Output is hello hello hello...\n",
    "while True:\n",
    "    print(\"hello\")\n",
    "    if 2 > 1:\n",
    "        continue\n",
    "    print(\"Hi\")"
   ]
  },
  {
   "attachments": {},
   "cell_type": "markdown",
   "metadata": {},
   "source": [
    "##### Requests"
   ]
  },
  {
   "attachments": {},
   "cell_type": "markdown",
   "metadata": {},
   "source": [
    "Import statements first look for a local file in the current directory (e.g., requests.py). If there is such a file, it imports that file and not the actual module. "
   ]
  },
  {
   "cell_type": "code",
   "execution_count": 2,
   "metadata": {},
   "outputs": [
    {
     "name": "stdout",
     "output_type": "stream",
     "text": [
      "<!DOCTYPE html>\n",
      "<!--[if lt IE 7]> <html class=\"no-js ie6 oldie\" lang=\"en-US\"> <![endif]-->\n",
      "<!--[if I\n"
     ]
    }
   ],
   "source": [
    "import requests\n",
    "\n",
    "headers = {'User-agent': 'Mozilla/5.0 (X11; Ubuntu; Linux x86_64; rv:61.0) Gecko/20100101 Firefox/61.0'}\n",
    "r = requests.get(\"http://www.pythonhow.com\", headers = headers)\n",
    "print(r.text[:100])\n",
    "\n"
   ]
  },
  {
   "attachments": {},
   "cell_type": "markdown",
   "metadata": {},
   "source": [
    "Read a text file in Github "
   ]
  },
  {
   "cell_type": "code",
   "execution_count": 7,
   "metadata": {},
   "outputs": [
    {
     "name": "stdout",
     "output_type": "stream",
     "text": [
      "The Mysterious Affair at Styles\n",
      "The Secret Adversary\n",
      "The Murder on the Links\n",
      "The Man in the Brown Suit\n",
      "The Secret of Chimneys\n",
      "The Murder of Roger Ackroyd\n",
      "The Big Four\n",
      "The Mystery of the Blue Train\n",
      "The Seven Dials Mystery\n",
      "The Murder at the Vicarage\n",
      "Giant's Bread\n",
      "The Floating Admiral\n",
      "The Sittaford Mystery\n",
      "Peril at End House\n",
      "Lord Edgware Dies\n",
      "Murder on the Orient Express\n",
      "Unfinished Portrait\n",
      "Why Didn't They Ask Evans?\n",
      "Three Act Tragedy\n",
      "Death in the Clouds\n",
      "\n"
     ]
    }
   ],
   "source": [
    "import requests\n",
    "response = requests.get(\"https://raw.githubusercontent.com/itsfoss/text-files/master/agatha.txt\", headers = {'user-agent': 'customUserAgent'})\n",
    "text = response.text\n",
    "print(text)"
   ]
  },
  {
   "attachments": {},
   "cell_type": "markdown",
   "metadata": {},
   "source": [
    "Count the number of characters 'a' in the text file "
   ]
  },
  {
   "cell_type": "code",
   "execution_count": 13,
   "metadata": {},
   "outputs": [
    {
     "name": "stdout",
     "output_type": "stream",
     "text": [
      "20\n"
     ]
    }
   ],
   "source": [
    "import requests\n",
    "response = requests.get(\"https://raw.githubusercontent.com/itsfoss/text-files/master/agatha.txt\", headers = {'user-agent': 'customUserAgent'})\n",
    "text = response.text\n",
    "print(text.count('a'))"
   ]
  },
  {
   "attachments": {},
   "cell_type": "markdown",
   "metadata": {},
   "source": [
    "##### Google Search using Python\n"
   ]
  },
  {
   "cell_type": "code",
   "execution_count": 14,
   "metadata": {},
   "outputs": [
    {
     "data": {
      "text/plain": [
       "True"
      ]
     },
     "execution_count": 14,
     "metadata": {},
     "output_type": "execute_result"
    }
   ],
   "source": [
    "import webbrowser\n",
    "\n",
    "query = input(\"Input your query: \")\n",
    "webbrowser.open(\"https://google.com/search?q=%s\" % query)"
   ]
  },
  {
   "attachments": {},
   "cell_type": "markdown",
   "metadata": {},
   "source": [
    "##### Concatenate 2 text files"
   ]
  },
  {
   "cell_type": "code",
   "execution_count": 15,
   "metadata": {},
   "outputs": [],
   "source": [
    "import pandas as pd"
   ]
  },
  {
   "cell_type": "code",
   "execution_count": 24,
   "metadata": {},
   "outputs": [
    {
     "name": "stdout",
     "output_type": "stream",
     "text": [
      "    x   y\n",
      "0   6  10\n",
      "1   8  18\n",
      "2  12  20\n",
      "3  14  22\n",
      "4  16  24\n",
      "0   3   5\n",
      "1   4   9\n",
      "2   6  10\n",
      "3   7  11\n",
      "4   8  12\n"
     ]
    }
   ],
   "source": [
    "import pandas\n",
    "\n",
    "data1 = pandas.read_csv(\"https://pythonhow.com/media/data/sampledata_x_2.txt\")\n",
    "data2 = pandas.read_csv(\"https://pythonhow.com/media/data/sampledata.txt\")\n",
    "\n",
    "result = pd.concat([data1, data2])\n",
    "print(result)"
   ]
  },
  {
   "attachments": {},
   "cell_type": "markdown",
   "metadata": {},
   "source": [
    "#### Plot "
   ]
  },
  {
   "cell_type": "code",
   "execution_count": 27,
   "metadata": {},
   "outputs": [
    {
     "data": {
      "image/png": "[encoded data removed]",
      "text/plain": [
       "<Figure size 640x480 with 1 Axes>"
      ]
     },
     "metadata": {},
     "output_type": "display_data"
    }
   ],
   "source": [
    "import pandas\n",
    "import pylab as plt\n",
    "\n",
    "data = pandas.read_csv(\"https://pythonhow.com/media/data/sampledata.txt\")\n",
    "data.plot(x='x', y='y', kind='scatter')\n",
    "plt.show()"
   ]
  },
  {
   "attachments": {},
   "cell_type": "markdown",
   "metadata": {},
   "source": [
    "##### Current date using strftime "
   ]
  },
  {
   "cell_type": "code",
   "execution_count": 32,
   "metadata": {},
   "outputs": [
    {
     "name": "stdout",
     "output_type": "stream",
     "text": [
      "Today is Sunday, March 05, 2023\n"
     ]
    }
   ],
   "source": [
    "from datetime import datetime\n",
    "\n",
    "print(datetime.now().strftime(\"Today is %A, %B %d, %Y\"))"
   ]
  },
  {
   "attachments": {},
   "cell_type": "markdown",
   "metadata": {},
   "source": [
    "##### Birth year calculator"
   ]
  },
  {
   "cell_type": "code",
   "execution_count": 45,
   "metadata": {},
   "outputs": [
    {
     "name": "stdout",
     "output_type": "stream",
     "text": [
      "We think you were born back in  1998\n"
     ]
    }
   ],
   "source": [
    "from datetime import datetime\n",
    "\n",
    "age = int(input(\"Enter your age: \"))\n",
    "born_year = int(datetime.now().strftime(\"%Y\")) - age\n",
    "print(\"We think you were born back in \",born_year)"
   ]
  },
  {
   "cell_type": "code",
   "execution_count": 49,
   "metadata": {},
   "outputs": [
    {
     "data": {
      "text/plain": [
       "2023"
      ]
     },
     "execution_count": 49,
     "metadata": {},
     "output_type": "execute_result"
    }
   ],
   "source": [
    "datetime.now().year # this can also be used "
   ]
  },
  {
   "attachments": {},
   "cell_type": "markdown",
   "metadata": {},
   "source": [
    "##### Password Genenerator"
   ]
  },
  {
   "cell_type": "code",
   "execution_count": 53,
   "metadata": {},
   "outputs": [
    {
     "name": "stdout",
     "output_type": "stream",
     "text": [
      "zd5rOG\n"
     ]
    }
   ],
   "source": [
    "import random\n",
    "characters = \"abcdefghijklmnopqrstuvwxyz01234567890ABCDEFGHIJKLMNOPQRSTUVWXYZ!@#$%^&*()?\"\n",
    "chosen = random.sample(characters, 6)\n",
    "password = \"\".join(chosen)\n",
    "print(password)"
   ]
  },
  {
   "attachments": {},
   "cell_type": "markdown",
   "metadata": {},
   "source": [
    "##### VaLID PWD or Not?"
   ]
  },
  {
   "cell_type": "code",
   "execution_count": 73,
   "metadata": {},
   "outputs": [
    {
     "name": "stdout",
     "output_type": "stream",
     "text": [
      "Great password!\n"
     ]
    }
   ],
   "source": [
    "def PasswordChecker(pwd):     \n",
    "    p_list = list(pwd)\n",
    "    \n",
    "    up_count = 0\n",
    "    dig_count = 0 \n",
    "    for letter in p_list:\n",
    "        if letter in string.ascii_uppercase:\n",
    "            up_count = up_count +  1\n",
    "\n",
    "        if letter in string.digits:\n",
    "            dig_count = dig_count + 1\n",
    "\n",
    "    if ( (dig_count>0) & (up_count>0) & (len(p_list)>=4) ):\n",
    "        return \"Great password!\"\n",
    "    \n",
    "    else:\n",
    "        return \"Password is not fine\"            \n",
    "            \n",
    "\n",
    "\n",
    "import string\n",
    "\n",
    "pwd = input(\"Enter the password: \")\n",
    "msg = PasswordChecker(pwd)\n",
    "print(msg)"
   ]
  },
  {
   "cell_type": "code",
   "execution_count": 71,
   "metadata": {},
   "outputs": [
    {
     "name": "stdout",
     "output_type": "stream",
     "text": [
      "Password is fine\n"
     ]
    }
   ],
   "source": [
    "# another version \n",
    "while True:\n",
    "    psw = input(\"Enter new password: \")\n",
    "    if any(i.isdigit() for i in psw) and any(i.isupper() for i in psw) and len(psw) >= 5:\n",
    "        print(\"Password is fine\")\n",
    "        break\n",
    "    else:\n",
    "        print(\"Password is not fine\")"
   ]
  },
  {
   "cell_type": "code",
   "execution_count": null,
   "metadata": {},
   "outputs": [],
   "source": []
  }
 ],
 "metadata": {
  "kernelspec": {
   "display_name": "Python 3",
   "language": "python",
   "name": "python3"
  },
  "language_info": {
   "codemirror_mode": {
    "name": "ipython",
    "version": 3
   },
   "file_extension": ".py",
   "mimetype": "text/x-python",
   "name": "python",
   "nbconvert_exporter": "python",
   "pygments_lexer": "ipython3",
   "version": "3.11.1"
  },
  "orig_nbformat": 4,
  "vscode": {
   "interpreter": {
    "hash": "bc5d0375834dd5489336c0601d6d6d014ff7af1a273b143b74553897693db644"
   }
  }
 },
 "nbformat": 4,
 "nbformat_minor": 2
}
